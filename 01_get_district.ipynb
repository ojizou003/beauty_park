{
 "cells": [
  {
   "cell_type": "code",
   "execution_count": 3,
   "id": "b4befc2f",
   "metadata": {},
   "outputs": [],
   "source": [
    "import requests\n",
    "from bs4 import BeautifulSoup\n",
    "import re\n",
    "import pandas as pd\n",
    "from tqdm import tqdm\n",
    "import pickle"
   ]
  },
  {
   "cell_type": "code",
   "execution_count": 14,
   "id": "ef055bb8",
   "metadata": {},
   "outputs": [],
   "source": [
    "BASE_URL = \"https://www.beauty-park.jp\""
   ]
  },
  {
   "cell_type": "code",
   "execution_count": 15,
   "id": "921dc45b",
   "metadata": {},
   "outputs": [],
   "source": [
    "res = requests.get(BASE_URL)\n",
    "soup = BeautifulSoup(res.text, \"html.parser\")"
   ]
  },
  {
   "cell_type": "code",
   "execution_count": 16,
   "id": "9a1c86a5",
   "metadata": {},
   "outputs": [],
   "source": [
    "search_area_map = soup.find(id=\"search-area-map\")"
   ]
  },
  {
   "cell_type": "code",
   "execution_count": 17,
   "id": "f8028509",
   "metadata": {},
   "outputs": [],
   "source": [
    "# aタグのhref属性を抽出\n",
    "district_links = [a['href'] for a in search_area_map.find_all('a', href=True)]"
   ]
  },
  {
   "cell_type": "code",
   "execution_count": 23,
   "id": "d8f487a7",
   "metadata": {},
   "outputs": [],
   "source": [
    "district_urls =[f'{BASE_URL}{link}cities' for link in district_links]"
   ]
  },
  {
   "cell_type": "code",
   "execution_count": 24,
   "id": "0947082b",
   "metadata": {},
   "outputs": [
    {
     "data": {
      "text/plain": [
       "['https://www.beauty-park.jp/hokkaido/cities',\n",
       " 'https://www.beauty-park.jp/aomori/cities',\n",
       " 'https://www.beauty-park.jp/iwate/cities',\n",
       " 'https://www.beauty-park.jp/miyagi/cities',\n",
       " 'https://www.beauty-park.jp/akita/cities',\n",
       " 'https://www.beauty-park.jp/yamagata/cities',\n",
       " 'https://www.beauty-park.jp/fukushima/cities',\n",
       " 'https://www.beauty-park.jp/chiba/cities',\n",
       " 'https://www.beauty-park.jp/kanagawa/cities',\n",
       " 'https://www.beauty-park.jp/tokyo/cities',\n",
       " 'https://www.beauty-park.jp/tochigi/cities',\n",
       " 'https://www.beauty-park.jp/ibaraki/cities',\n",
       " 'https://www.beauty-park.jp/saitama/cities',\n",
       " 'https://www.beauty-park.jp/gunma/cities',\n",
       " 'https://www.beauty-park.jp/aichi/cities',\n",
       " 'https://www.beauty-park.jp/shizuoka/cities',\n",
       " 'https://www.beauty-park.jp/gifu/cities',\n",
       " 'https://www.beauty-park.jp/yamanashi/cities',\n",
       " 'https://www.beauty-park.jp/nagano/cities',\n",
       " 'https://www.beauty-park.jp/niigata/cities',\n",
       " 'https://www.beauty-park.jp/toyama/cities',\n",
       " 'https://www.beauty-park.jp/ishikawa/cities',\n",
       " 'https://www.beauty-park.jp/fukui/cities',\n",
       " 'https://www.beauty-park.jp/osaka/cities',\n",
       " 'https://www.beauty-park.jp/kyoto/cities',\n",
       " 'https://www.beauty-park.jp/nara/cities',\n",
       " 'https://www.beauty-park.jp/hyogo/cities',\n",
       " 'https://www.beauty-park.jp/shiga/cities',\n",
       " 'https://www.beauty-park.jp/wakayama/cities',\n",
       " 'https://www.beauty-park.jp/mie/cities',\n",
       " 'https://www.beauty-park.jp/hiroshima/cities',\n",
       " 'https://www.beauty-park.jp/okayama/cities',\n",
       " 'https://www.beauty-park.jp/yamaguchi/cities',\n",
       " 'https://www.beauty-park.jp/tottori/cities',\n",
       " 'https://www.beauty-park.jp/shimane/cities',\n",
       " 'https://www.beauty-park.jp/kagawa/cities',\n",
       " 'https://www.beauty-park.jp/ehime/cities',\n",
       " 'https://www.beauty-park.jp/kochi/cities',\n",
       " 'https://www.beauty-park.jp/tokushima/cities',\n",
       " 'https://www.beauty-park.jp/fukuoka/cities',\n",
       " 'https://www.beauty-park.jp/saga/cities',\n",
       " 'https://www.beauty-park.jp/nagasaki/cities',\n",
       " 'https://www.beauty-park.jp/kumamoto/cities',\n",
       " 'https://www.beauty-park.jp/oita/cities',\n",
       " 'https://www.beauty-park.jp/miyazaki/cities',\n",
       " 'https://www.beauty-park.jp/kagoshima/cities',\n",
       " 'https://www.beauty-park.jp/okinawa/cities']"
      ]
     },
     "execution_count": 24,
     "metadata": {},
     "output_type": "execute_result"
    }
   ],
   "source": [
    "district_urls"
   ]
  },
  {
   "cell_type": "code",
   "execution_count": 25,
   "id": "f3561e69",
   "metadata": {},
   "outputs": [],
   "source": [
    "with open('district_urls.pkl', 'wb') as f:\n",
    "    pickle.dump(district_urls, f)"
   ]
  },
  {
   "cell_type": "code",
   "execution_count": null,
   "id": "4d2aec9a",
   "metadata": {},
   "outputs": [],
   "source": []
  }
 ],
 "metadata": {
  "kernelspec": {
   "display_name": ".venv",
   "language": "python",
   "name": "python3"
  },
  "language_info": {
   "codemirror_mode": {
    "name": "ipython",
    "version": 3
   },
   "file_extension": ".py",
   "mimetype": "text/x-python",
   "name": "python",
   "nbconvert_exporter": "python",
   "pygments_lexer": "ipython3",
   "version": "3.13.5"
  }
 },
 "nbformat": 4,
 "nbformat_minor": 5
}
