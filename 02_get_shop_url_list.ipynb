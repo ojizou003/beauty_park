{
 "cells": [
  {
   "cell_type": "code",
   "execution_count": 37,
   "id": "26f9f933",
   "metadata": {},
   "outputs": [],
   "source": [
    "# imports\n",
    "import requests\n",
    "from bs4 import BeautifulSoup\n",
    "from selenium import webdriver\n",
    "from selenium. webdriver. chrome. service import Service\n",
    "from selenium. webdriver. chrome. options import Options\n",
    "from selenium.webdriver.common.by import By\n",
    "from selenium.webdriver.support.ui import WebDriverWait\n",
    "from selenium.webdriver.support import expected_conditions as EC\n",
    "import re\n",
    "import pandas as pd\n",
    "from tqdm import tqdm\n",
    "import pickle\n",
    "from time import sleep"
   ]
  },
  {
   "cell_type": "code",
   "execution_count": 40,
   "id": "55981c68",
   "metadata": {},
   "outputs": [
    {
     "data": {
      "text/plain": [
       "'https://www.beauty-park.jp/kumamoto/cities'"
      ]
     },
     "execution_count": 40,
     "metadata": {},
     "output_type": "execute_result"
    }
   ],
   "source": [
    "# district_urlsから特定の都道府県のurlを抽出\n",
    "with open('district_urls.pkl', 'rb') as f:\n",
    "    district_urls = pickle.load(f)\n",
    "\n",
    "# urlを抽出\n",
    "district_url = district_urls[42]\n",
    "district_url"
   ]
  },
  {
   "cell_type": "code",
   "execution_count": 41,
   "id": "ca300102",
   "metadata": {},
   "outputs": [],
   "source": [
    "# 出力ファイル\n",
    "OUTPUT_FILE = \"shop_url_list_by_district/shop_url_list_kumamoto.pkl\""
   ]
  },
  {
   "cell_type": "code",
   "execution_count": 42,
   "id": "d96929d1",
   "metadata": {},
   "outputs": [],
   "source": [
    "# city_urlsを取得\n",
    "res = requests.get(district_url)\n",
    "soup = BeautifulSoup(res.text, \"html.parser\")\n",
    "selection_tab =soup.find(class_=\"selection-tab\")\n",
    "BASE_URL = \"https://www.beauty-park.jp\"\n",
    "city_urls = [f'{BASE_URL}{a['href']}' for a in selection_tab.find_all('a', href=True)]"
   ]
  },
  {
   "cell_type": "code",
   "execution_count": 43,
   "id": "28b6e7f3",
   "metadata": {},
   "outputs": [],
   "source": [
    "options = Options ()\n",
    "options.binary_location = \"/usr/bin/chromium-browser\" # Chromium のパス\n",
    "# options.add_argument (\"--headless\")\n",
    "options.add_argument (\"--no-sandbox\")\n",
    "options.add_argument (\"--disable-dev-shm-usage\")\n",
    "service = Service (\"/usr/bin/chromedriver\") # chromedriverのパス\n",
    "\n",
    "driver = webdriver.Chrome(service=service, options=options)\n"
   ]
  },
  {
   "cell_type": "code",
   "execution_count": 44,
   "id": "b21820d7",
   "metadata": {},
   "outputs": [
    {
     "name": "stderr",
     "output_type": "stream",
     "text": [
      "100%|██████████| 24/24 [01:25<00:00,  3.56s/it]\n"
     ]
    }
   ],
   "source": [
    "# shop_url_list_by_districtを取得\n",
    "shop_url_list_by_district = []\n",
    "for city_url in tqdm(city_urls):\n",
    "    driver.get(city_url)\n",
    "    sleep(1)\n",
    "    shop_urls_by_city = []\n",
    "    while True:\n",
    "        # h4要素が読み込まれるまで待機\n",
    "        wait = WebDriverWait(driver, 10)\n",
    "        cards = wait.until(EC.presence_of_all_elements_located((By.TAG_NAME, \"h4\")))\n",
    "        shop_urls = []\n",
    "        for card in cards:\n",
    "            shop_url = card.find_element(By.CSS_SELECTOR, \"a\").get_attribute(\"href\")\n",
    "            shop_urls.append(shop_url)\n",
    "        shop_urls_by_city.extend(shop_urls)\n",
    "        try:\n",
    "            next_button = driver.find_element(By.LINK_TEXT, \"次を表示\")\n",
    "            next_button.click()\n",
    "            sleep(2)\n",
    "        except:\n",
    "            break    \n",
    "    shop_url_list_by_district.extend(shop_urls_by_city)\n",
    "driver.quit()"
   ]
  },
  {
   "cell_type": "code",
   "execution_count": 45,
   "id": "935943a5",
   "metadata": {},
   "outputs": [
    {
     "name": "stdout",
     "output_type": "stream",
     "text": [
      "757\n",
      "205\n",
      "205\n",
      "205\n"
     ]
    }
   ],
   "source": [
    "print(len(shop_url_list_by_district))\n",
    "print(len(set(shop_url_list_by_district)))\n",
    "shop_url_list_by_district = list(set(shop_url_list_by_district))\n",
    "print(len(shop_url_list_by_district))\n",
    "print(len(set(shop_url_list_by_district)))"
   ]
  },
  {
   "cell_type": "code",
   "execution_count": 46,
   "id": "5777db6b",
   "metadata": {},
   "outputs": [],
   "source": [
    "# 出力\n",
    "with open(OUTPUT_FILE, 'wb') as f:\n",
    "    pickle.dump(shop_url_list_by_district, f)"
   ]
  },
  {
   "cell_type": "code",
   "execution_count": null,
   "id": "fa75285f",
   "metadata": {},
   "outputs": [],
   "source": []
  }
 ],
 "metadata": {
  "kernelspec": {
   "display_name": ".venv",
   "language": "python",
   "name": "python3"
  },
  "language_info": {
   "codemirror_mode": {
    "name": "ipython",
    "version": 3
   },
   "file_extension": ".py",
   "mimetype": "text/x-python",
   "name": "python",
   "nbconvert_exporter": "python",
   "pygments_lexer": "ipython3",
   "version": "3.13.5"
  }
 },
 "nbformat": 4,
 "nbformat_minor": 5
}
