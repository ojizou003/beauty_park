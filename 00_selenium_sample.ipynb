{
 "cells": [
  {
   "cell_type": "code",
   "execution_count": null,
   "id": "9779ed26",
   "metadata": {},
   "outputs": [],
   "source": [
    "from selenium import webdriver\n",
    "from selenium. webdriver. chrome. service import Service\n",
    "from selenium. webdriver. chrome. options import Options\n",
    "from selenium.webdriver.common.by import By\n",
    "from selenium.webdriver.support.ui import WebDriverWait\n",
    "from selenium.webdriver.support import expected_conditions as EC\n",
    "import re\n",
    "import pandas as pd\n",
    "from tqdm import tqdm\n",
    "import pickle"
   ]
  },
  {
   "cell_type": "code",
   "execution_count": null,
   "id": "b6fde682",
   "metadata": {},
   "outputs": [],
   "source": [
    "url = \"\"\n",
    "\n",
    "options = Options ()\n",
    "options.binary_location = \"/usr/bin/chromium-browser\" # Chromium のパス\n",
    "options.add_argument (\"--headless\")\n",
    "options.add_argument (\"--no-sandbox\")\n",
    "options.add_argument (\"--disable-dev-shm-usage\")\n",
    "service = Service (\"/usr/bin/chromedriver\") # chromedriverのパス\n",
    "\n",
    "driver = webdriver.Chrome(service=service, options=options)\n",
    "driver.get(url)\n",
    "\n",
    "driver. quit ()"
   ]
  }
 ],
 "metadata": {
  "language_info": {
   "name": "python"
  }
 },
 "nbformat": 4,
 "nbformat_minor": 5
}
