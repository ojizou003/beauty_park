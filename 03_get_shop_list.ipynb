{
 "cells": [
  {
   "cell_type": "code",
   "execution_count": 27,
   "id": "61b8c941",
   "metadata": {},
   "outputs": [],
   "source": [
    "# imports\n",
    "import requests\n",
    "from bs4 import BeautifulSoup\n",
    "from selenium import webdriver\n",
    "from selenium. webdriver. chrome. service import Service\n",
    "from selenium. webdriver. chrome. options import Options\n",
    "from selenium.webdriver.common.by import By\n",
    "from selenium.webdriver.support.ui import WebDriverWait\n",
    "from selenium.webdriver.support import expected_conditions as EC\n",
    "import re\n",
    "import pandas as pd\n",
    "from tqdm import tqdm\n",
    "import pickle\n",
    "from time import sleep"
   ]
  },
  {
   "cell_type": "code",
   "execution_count": 28,
   "id": "74eaf848",
   "metadata": {},
   "outputs": [],
   "source": [
    "# 入力ファイル\n",
    "INPUT_FILE = \"shop_url_list_by_district/shop_url_list_kumamoto.pkl\"\n",
    "# 出力ファイル\n",
    "OUTPUT_FILE = \"shop_list_by_district/kumamoto_shop_list.csv\""
   ]
  },
  {
   "cell_type": "code",
   "execution_count": 29,
   "id": "e44e0652",
   "metadata": {},
   "outputs": [
    {
     "name": "stdout",
     "output_type": "stream",
     "text": [
      "205\n",
      "205\n"
     ]
    }
   ],
   "source": [
    "# shop_url_listを読み込む\n",
    "with open(INPUT_FILE, 'rb') as f:\n",
    "    shop_url_list = pickle.load(f)\n",
    "print(len(shop_url_list))\n",
    "print(len(set(shop_url_list)))"
   ]
  },
  {
   "cell_type": "code",
   "execution_count": 30,
   "id": "8dba8ee9",
   "metadata": {},
   "outputs": [],
   "source": [
    "# ブラウザ起動\n",
    "options = Options ()\n",
    "options.binary_location = \"/usr/bin/chromium-browser\" # Chromium のパス\n",
    "# options.add_argument (\"--headless\")\n",
    "options.add_argument (\"--no-sandbox\")\n",
    "options.add_argument (\"--disable-dev-shm-usage\")\n",
    "service = Service (\"/usr/bin/chromedriver\") # chromedriverのパス\n",
    "\n",
    "driver = webdriver.Chrome(service=service, options=options)"
   ]
  },
  {
   "cell_type": "code",
   "execution_count": 31,
   "id": "31dd236f",
   "metadata": {},
   "outputs": [
    {
     "name": "stderr",
     "output_type": "stream",
     "text": [
      "100%|██████████| 205/205 [09:15<00:00,  2.71s/it]\n"
     ]
    }
   ],
   "source": [
    "# スクレイピング\n",
    "shop_list = []\n",
    "for shop_url in tqdm(shop_url_list):\n",
    "    driver.get(shop_url)\n",
    "    try:\n",
    "        driver.find_element(By.LINK_TEXT, \"電話番号を表示する\").click()\n",
    "        sleep(2)\n",
    "    except:\n",
    "        pass\n",
    "    table = driver.find_element(By.ID, \"Company-table-main\")\n",
    "    ths = table.find_elements(By.TAG_NAME, \"th\")\n",
    "    th_texts = [th.text for th in ths]\n",
    "    tds = table.find_elements(By.TAG_NAME, \"td\")\n",
    "    td_texts = [td.text for td in tds]\n",
    "\n",
    "    # 必要な情報のインデックスを取得\n",
    "    name_index = th_texts.index('店舗名')\n",
    "    try:\n",
    "        phone_index = th_texts.index('電話番号')\n",
    "    except:\n",
    "        phone_index = None\n",
    "    address_index = th_texts.index('住所')\n",
    "    try:\n",
    "        website_index = th_texts.index('ホームページ')\n",
    "    except:\n",
    "        website_index = None\n",
    "\n",
    "    # 各情報を取得\n",
    "    shop_name = td_texts[name_index]\n",
    "    if phone_index is not None:\n",
    "        phone_number = td_texts[phone_index].split('\\n')[0]\n",
    "    else:\n",
    "        phone_number = ' - '\n",
    "    address = td_texts[address_index]\n",
    "    if website_index is not None:\n",
    "        website = td_texts[website_index]\n",
    "    else:\n",
    "        website = ' - '\n",
    "\n",
    "    dic={}\n",
    "    dic['店舗名'] = shop_name\n",
    "    dic['電話番号'] = phone_number\n",
    "    dic['住所'] = address\n",
    "    dic['ホームページ'] = website\n",
    "    shop_list.append(dic)\n",
    "driver.quit()"
   ]
  },
  {
   "cell_type": "code",
   "execution_count": 32,
   "id": "12b0a479",
   "metadata": {},
   "outputs": [
    {
     "name": "stdout",
     "output_type": "stream",
     "text": [
      "(205, 4)\n",
      "0\n",
      "(205, 4)\n",
      "205\n",
      "137\n",
      "203\n",
      "60\n"
     ]
    }
   ],
   "source": [
    "df = pd.DataFrame(shop_list)\n",
    "print(df.shape)\n",
    "print(df.duplicated().sum())\n",
    "# 重複を削除\n",
    "df = df.drop_duplicates()\n",
    "print(df.shape)\n",
    "print(df['店舗名'].nunique())\n",
    "print(df['電話番号'].nunique() - 1)\n",
    "print(df['住所'].nunique())\n",
    "print(df['ホームページ'].nunique() - 1)"
   ]
  },
  {
   "cell_type": "code",
   "execution_count": 33,
   "id": "cef9d2d6",
   "metadata": {},
   "outputs": [],
   "source": [
    "df.to_csv(OUTPUT_FILE, index=False)"
   ]
  },
  {
   "cell_type": "code",
   "execution_count": null,
   "id": "34305dd5",
   "metadata": {},
   "outputs": [],
   "source": []
  }
 ],
 "metadata": {
  "kernelspec": {
   "display_name": ".venv",
   "language": "python",
   "name": "python3"
  },
  "language_info": {
   "codemirror_mode": {
    "name": "ipython",
    "version": 3
   },
   "file_extension": ".py",
   "mimetype": "text/x-python",
   "name": "python",
   "nbconvert_exporter": "python",
   "pygments_lexer": "ipython3",
   "version": "3.13.5"
  }
 },
 "nbformat": 4,
 "nbformat_minor": 5
}
